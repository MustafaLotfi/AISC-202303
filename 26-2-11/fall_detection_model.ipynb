{
 "cells": [
  {
   "cell_type": "code",
   "execution_count": 52,
   "id": "7a66e046",
   "metadata": {},
   "outputs": [],
   "source": [
    "import scipy\n",
    "import numpy as np\n",
    "from sklearn.utils import shuffle\n",
    "from sklearn.preprocessing import StandardScaler\n",
    "from sklearn.model_selection import train_test_split\n",
    "from sklearn.metrics import confusion_matrix as cm\n",
    "from sklearn.metrics import classification_report as cr\n",
    "from keras.models import Sequential\n",
    "from keras.layers import LSTM, Dense\n",
    "from keras.callbacks import EarlyStopping\n",
    "import matplotlib.pyplot as plt\n",
    "from joblib import dump"
   ]
  },
  {
   "cell_type": "code",
   "execution_count": 31,
   "id": "904beb21",
   "metadata": {},
   "outputs": [],
   "source": [
    "FREQ_DECREASE_RATIO = 1/10"
   ]
  },
  {
   "cell_type": "code",
   "execution_count": 3,
   "id": "1a07ed63",
   "metadata": {},
   "outputs": [],
   "source": [
    "input_data = scipy.io.loadmat('files/acc_data.mat')\n",
    "output_data = scipy.io.loadmat('files/acc_labels.mat')"
   ]
  },
  {
   "cell_type": "code",
   "execution_count": 7,
   "id": "292e0ab1",
   "metadata": {},
   "outputs": [
    {
     "name": "stdout",
     "output_type": "stream",
     "text": [
      "dict_keys(['__header__', '__version__', '__globals__', 'acc_data'])\n"
     ]
    }
   ],
   "source": [
    "print(input_data.keys())"
   ]
  },
  {
   "cell_type": "code",
   "execution_count": 12,
   "id": "a1fb3a89",
   "metadata": {},
   "outputs": [
    {
     "name": "stdout",
     "output_type": "stream",
     "text": [
      "(11771, 453) (11771,)\n"
     ]
    }
   ],
   "source": [
    "x = input_data['acc_data']\n",
    "y = output_data['acc_labels'][:, 0]\n",
    "print(x.shape, y.shape)"
   ]
  },
  {
   "cell_type": "code",
   "execution_count": 20,
   "id": "3c1c7c63",
   "metadata": {},
   "outputs": [
    {
     "name": "stdout",
     "output_type": "stream",
     "text": [
      "(9040, 453) (9040,)\n"
     ]
    }
   ],
   "source": [
    "run_jump = (y == 4) | (y == 6)\n",
    "x = np.delete(x, run_jump, 0)\n",
    "y = np.delete(y, run_jump)\n",
    "print(x.shape, y.shape)"
   ]
  },
  {
   "cell_type": "code",
   "execution_count": 21,
   "id": "5c4ca1f4",
   "metadata": {},
   "outputs": [
    {
     "name": "stdout",
     "output_type": "stream",
     "text": [
      "(4848, 453) (4192, 453)\n"
     ]
    }
   ],
   "source": [
    "x0 = x[y <= 9]\n",
    "x1 = x[y > 9]\n",
    "print(x0.shape, x1.shape)"
   ]
  },
  {
   "cell_type": "code",
   "execution_count": 23,
   "id": "97db7f49",
   "metadata": {},
   "outputs": [
    {
     "name": "stdout",
     "output_type": "stream",
     "text": [
      "4192\n",
      "(8384, 453) (8384, 1)\n"
     ]
    }
   ],
   "source": [
    "lower = min(x0.shape[0], x1.shape[0])\n",
    "print(lower)\n",
    "\n",
    "x0 = shuffle(x0)\n",
    "x1 = shuffle(x1)\n",
    "\n",
    "x0 = x0[:lower]\n",
    "x1 = x1[:lower]\n",
    "\n",
    "x = np.concatenate((x0, x1), 0)\n",
    "y = np.array([0]*lower+[1]*lower).reshape((-1, 1))\n",
    "print(x.shape, y.shape)"
   ]
  },
  {
   "cell_type": "code",
   "execution_count": 25,
   "id": "0a05c8a0",
   "metadata": {},
   "outputs": [
    {
     "name": "stdout",
     "output_type": "stream",
     "text": [
      "(1265984,) (1265984,) (1265984,)\n"
     ]
    }
   ],
   "source": [
    "n_smp = x.shape[0]\n",
    "batch_len = x.shape[1] // 3\n",
    "\n",
    "for (i, smp) in enumerate(x):\n",
    "    smp_x = smp[:batch_len]\n",
    "    smp_y = smp[batch_len:-batch_len]\n",
    "    smp_z = smp[-batch_len:]\n",
    "    if i == 0:\n",
    "        xx = smp_x\n",
    "        xy = smp_y\n",
    "        xz = smp_z\n",
    "    else:\n",
    "        xx = np.concatenate((xx, smp_x))\n",
    "        xy = np.concatenate((xy, smp_y))\n",
    "        xz = np.concatenate((xz, smp_z))\n",
    "        \n",
    "print(xx.shape, xy.shape, xz.shape)"
   ]
  },
  {
   "cell_type": "code",
   "execution_count": 27,
   "id": "3d81b68c",
   "metadata": {},
   "outputs": [],
   "source": [
    "scaler = StandardScaler()\n",
    "\n",
    "xx = xx.reshape((-1, 1))\n",
    "xy = xy.reshape((-1, 1))\n",
    "xz = xz.reshape((-1, 1))\n",
    "\n",
    "x_series = np.concatenate((xx, xy, xz), 1)\n",
    "\n",
    "x_nrm = scaler.fit_transform(x_series)"
   ]
  },
  {
   "cell_type": "code",
   "execution_count": 35,
   "id": "fc3777bf",
   "metadata": {},
   "outputs": [
    {
     "name": "stdout",
     "output_type": "stream",
     "text": [
      "10\n",
      "(8384, 16, 3)\n"
     ]
    }
   ],
   "source": [
    "x = []\n",
    "sampling_step = round(1/FREQ_DECREASE_RATIO)\n",
    "print(sampling_step)\n",
    "for i in range(n_smp):\n",
    "    x.append(np.concatenate((x_nrm[i*batch_len:(i+1)*batch_len, 0][::sampling_step].reshape((-1, 1)),\n",
    "                    x_nrm[i*batch_len:(i+1)*batch_len, 1][::sampling_step].reshape((-1, 1)),\n",
    "                    x_nrm[i*batch_len:(i+1)*batch_len, 2][::sampling_step].reshape((-1, 1))), 1))\n",
    "\n",
    "x = np.array(x)\n",
    "print(x.shape)"
   ]
  },
  {
   "cell_type": "code",
   "execution_count": 38,
   "id": "dc8c3301",
   "metadata": {},
   "outputs": [],
   "source": [
    "x_train, x_val, y_train, y_val = train_test_split(x, y, train_size=0.8, random_state=42)"
   ]
  },
  {
   "cell_type": "code",
   "execution_count": 40,
   "id": "9850794a",
   "metadata": {},
   "outputs": [],
   "source": [
    "cb = EarlyStopping(patience=4, restore_best_weights=True)"
   ]
  },
  {
   "cell_type": "code",
   "execution_count": 43,
   "id": "5363e34e",
   "metadata": {},
   "outputs": [
    {
     "name": "stdout",
     "output_type": "stream",
     "text": [
      "Model: \"sequential_1\"\n",
      "_________________________________________________________________\n",
      " Layer (type)                Output Shape              Param #   \n",
      "=================================================================\n",
      " lstm_2 (LSTM)               (None, 16, 128)           67584     \n",
      "                                                                 \n",
      " lstm_3 (LSTM)               (None, 64)                49408     \n",
      "                                                                 \n",
      " dense_3 (Dense)             (None, 64)                4160      \n",
      "                                                                 \n",
      " dense_4 (Dense)             (None, 32)                2080      \n",
      "                                                                 \n",
      " dense_5 (Dense)             (None, 1)                 33        \n",
      "                                                                 \n",
      "=================================================================\n",
      "Total params: 123,265\n",
      "Trainable params: 123,265\n",
      "Non-trainable params: 0\n",
      "_________________________________________________________________\n",
      "None\n"
     ]
    }
   ],
   "source": [
    "model = Sequential()\n",
    "\n",
    "model.add(LSTM(128, input_shape=x_train.shape[1:], return_sequences=True))\n",
    "\n",
    "model.add(LSTM(64))\n",
    "\n",
    "model.add(Dense(64))\n",
    "\n",
    "model.add(Dense(32))\n",
    "\n",
    "model.add(Dense(1, activation='sigmoid'))\n",
    "\n",
    "model.compile(optimizer='adam', loss='binary_crossentropy', metrics='accuracy')\n",
    "\n",
    "print(model.summary())"
   ]
  },
  {
   "cell_type": "code",
   "execution_count": 44,
   "id": "06a966c9",
   "metadata": {},
   "outputs": [
    {
     "name": "stdout",
     "output_type": "stream",
     "text": [
      "Epoch 1/64\n",
      "210/210 [==============================] - 12s 35ms/step - loss: 0.2679 - accuracy: 0.8760 - val_loss: 0.1344 - val_accuracy: 0.9481\n",
      "Epoch 2/64\n",
      "210/210 [==============================] - 7s 32ms/step - loss: 0.1405 - accuracy: 0.9478 - val_loss: 0.0945 - val_accuracy: 0.9600\n",
      "Epoch 3/64\n",
      "210/210 [==============================] - 7s 33ms/step - loss: 0.1123 - accuracy: 0.9571 - val_loss: 0.0839 - val_accuracy: 0.9672\n",
      "Epoch 4/64\n",
      "210/210 [==============================] - 7s 33ms/step - loss: 0.0925 - accuracy: 0.9645 - val_loss: 0.0590 - val_accuracy: 0.9761\n",
      "Epoch 5/64\n",
      "210/210 [==============================] - 7s 33ms/step - loss: 0.0741 - accuracy: 0.9706 - val_loss: 0.1012 - val_accuracy: 0.9648\n",
      "Epoch 6/64\n",
      "210/210 [==============================] - 7s 33ms/step - loss: 0.0680 - accuracy: 0.9739 - val_loss: 0.0523 - val_accuracy: 0.9785\n",
      "Epoch 7/64\n",
      "210/210 [==============================] - 7s 34ms/step - loss: 0.0619 - accuracy: 0.9757 - val_loss: 0.0495 - val_accuracy: 0.9833\n",
      "Epoch 8/64\n",
      "210/210 [==============================] - 7s 31ms/step - loss: 0.0469 - accuracy: 0.9827 - val_loss: 0.0434 - val_accuracy: 0.9857\n",
      "Epoch 9/64\n",
      "210/210 [==============================] - 7s 34ms/step - loss: 0.0430 - accuracy: 0.9840 - val_loss: 0.0297 - val_accuracy: 0.9887\n",
      "Epoch 10/64\n",
      "210/210 [==============================] - 7s 33ms/step - loss: 0.0319 - accuracy: 0.9872 - val_loss: 0.0299 - val_accuracy: 0.9887\n",
      "Epoch 11/64\n",
      "210/210 [==============================] - 7s 33ms/step - loss: 0.0284 - accuracy: 0.9893 - val_loss: 0.0276 - val_accuracy: 0.9905\n",
      "Epoch 12/64\n",
      "210/210 [==============================] - 7s 34ms/step - loss: 0.0269 - accuracy: 0.9911 - val_loss: 0.0253 - val_accuracy: 0.9917\n",
      "Epoch 13/64\n",
      "210/210 [==============================] - 7s 32ms/step - loss: 0.0313 - accuracy: 0.9882 - val_loss: 0.0425 - val_accuracy: 0.9845\n",
      "Epoch 14/64\n",
      "210/210 [==============================] - 7s 33ms/step - loss: 0.0242 - accuracy: 0.9915 - val_loss: 0.0223 - val_accuracy: 0.9934\n",
      "Epoch 15/64\n",
      "210/210 [==============================] - 7s 33ms/step - loss: 0.0213 - accuracy: 0.9927 - val_loss: 0.0180 - val_accuracy: 0.9928\n",
      "Epoch 16/64\n",
      "210/210 [==============================] - 8s 38ms/step - loss: 0.0117 - accuracy: 0.9958 - val_loss: 0.0157 - val_accuracy: 0.9946\n",
      "Epoch 17/64\n",
      "210/210 [==============================] - 7s 32ms/step - loss: 0.0174 - accuracy: 0.9940 - val_loss: 0.0173 - val_accuracy: 0.9934\n",
      "Epoch 18/64\n",
      "210/210 [==============================] - 8s 37ms/step - loss: 0.0122 - accuracy: 0.9961 - val_loss: 0.0293 - val_accuracy: 0.9905\n",
      "Epoch 19/64\n",
      "210/210 [==============================] - 7s 33ms/step - loss: 0.0142 - accuracy: 0.9951 - val_loss: 0.0595 - val_accuracy: 0.9887\n",
      "Epoch 20/64\n",
      "210/210 [==============================] - 6s 31ms/step - loss: 0.0181 - accuracy: 0.9936 - val_loss: 0.0243 - val_accuracy: 0.9934\n"
     ]
    }
   ],
   "source": [
    "results = model.fit(x_train, y_train, epochs=64, validation_data=(x_val, y_val), callbacks=cb)"
   ]
  },
  {
   "cell_type": "code",
   "execution_count": 45,
   "id": "fab83620",
   "metadata": {},
   "outputs": [
    {
     "name": "stdout",
     "output_type": "stream",
     "text": [
      "210/210 [==============================] - 4s 13ms/step\n",
      "53/53 [==============================] - 1s 12ms/step\n"
     ]
    }
   ],
   "source": [
    "yhat_train = model.predict(x_train).round()\n",
    "yhat_val = model.predict(x_val).round()"
   ]
  },
  {
   "cell_type": "code",
   "execution_count": 47,
   "id": "0ae0281d",
   "metadata": {},
   "outputs": [
    {
     "name": "stdout",
     "output_type": "stream",
     "text": [
      "[[3345    9]\n",
      " [  15 3338]]\n",
      "[[834   4]\n",
      " [  5 834]]\n",
      "              precision    recall  f1-score   support\n",
      "\n",
      "           0       1.00      1.00      1.00      3354\n",
      "           1       1.00      1.00      1.00      3353\n",
      "\n",
      "    accuracy                           1.00      6707\n",
      "   macro avg       1.00      1.00      1.00      6707\n",
      "weighted avg       1.00      1.00      1.00      6707\n",
      "\n",
      "              precision    recall  f1-score   support\n",
      "\n",
      "           0       0.99      1.00      0.99       838\n",
      "           1       1.00      0.99      0.99       839\n",
      "\n",
      "    accuracy                           0.99      1677\n",
      "   macro avg       0.99      0.99      0.99      1677\n",
      "weighted avg       0.99      0.99      0.99      1677\n",
      "\n"
     ]
    }
   ],
   "source": [
    "print(cm(y_train, yhat_train))\n",
    "print(cm(y_val, yhat_val))\n",
    "print(cr(y_train, yhat_train))\n",
    "print(cr(y_val, yhat_val))"
   ]
  },
  {
   "cell_type": "code",
   "execution_count": 49,
   "id": "0721c37f",
   "metadata": {},
   "outputs": [
    {
     "data": {
      "text/plain": [
       "<matplotlib.legend.Legend at 0x24d8d09ed90>"
      ]
     },
     "execution_count": 49,
     "metadata": {},
     "output_type": "execute_result"
    },
    {
     "data": {
      "image/png": "[encoded data removed]",
      "text/plain": [
       "<Figure size 640x480 with 1 Axes>"
      ]
     },
     "metadata": {},
     "output_type": "display_data"
    }
   ],
   "source": [
    "plt.plot(results.history['loss'], label='Train')\n",
    "plt.plot(results.history['val_loss'], label='Validation')\n",
    "plt.title('Loss')\n",
    "plt.xlabel('Epochs')\n",
    "plt.legend()"
   ]
  },
  {
   "cell_type": "code",
   "execution_count": 51,
   "id": "b109cbfa",
   "metadata": {},
   "outputs": [
    {
     "data": {
      "text/plain": [
       "<matplotlib.legend.Legend at 0x24d8d155ee0>"
      ]
     },
     "execution_count": 51,
     "metadata": {},
     "output_type": "execute_result"
    },
    {
     "data": {
      "image/png": "[encoded data removed]",
      "text/plain": [
       "<Figure size 640x480 with 1 Axes>"
      ]
     },
     "metadata": {},
     "output_type": "display_data"
    }
   ],
   "source": [
    "plt.plot(results.history['accuracy'], label='Train')\n",
    "plt.plot(results.history['val_accuracy'], label='Validation')\n",
    "plt.title('Accuracy')\n",
    "plt.xlabel('Epochs')\n",
    "plt.legend()"
   ]
  },
  {
   "cell_type": "code",
   "execution_count": 53,
   "id": "747395c2",
   "metadata": {},
   "outputs": [
    {
     "data": {
      "text/plain": [
       "['models/scaler.bin']"
      ]
     },
     "execution_count": 53,
     "metadata": {},
     "output_type": "execute_result"
    }
   ],
   "source": [
    "model.save('models/model_frq5_inputs16.h5')\n",
    "dump(scaler, 'models/scaler.bin')"
   ]
  }
 ],
 "metadata": {
  "kernelspec": {
   "display_name": "venv",
   "language": "python",
   "name": "venv"
  },
  "language_info": {
   "codemirror_mode": {
    "name": "ipython",
    "version": 3
   },
   "file_extension": ".py",
   "mimetype": "text/x-python",
   "name": "python",
   "nbconvert_exporter": "python",
   "pygments_lexer": "ipython3",
   "version": "3.9.12"
  }
 },
 "nbformat": 4,
 "nbformat_minor": 5
}
