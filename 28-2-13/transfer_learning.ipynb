{
 "cells": [
  {
   "cell_type": "code",
   "execution_count": 25,
   "id": "1154872d",
   "metadata": {},
   "outputs": [],
   "source": [
    "from keras.models import load_model\n",
    "import numpy as np\n",
    "import cv2\n",
    "import matplotlib.pyplot as plt\n",
    "import os\n",
    "from sklearn.model_selection import train_test_split"
   ]
  },
  {
   "cell_type": "code",
   "execution_count": 3,
   "id": "697e0381",
   "metadata": {},
   "outputs": [],
   "source": [
    "IMG_SIZE = (60, 60)"
   ]
  },
  {
   "cell_type": "code",
   "execution_count": 2,
   "id": "d0b8a754",
   "metadata": {},
   "outputs": [
    {
     "name": "stdout",
     "output_type": "stream",
     "text": [
      "Model: \"sequential\"\n",
      "_________________________________________________________________\n",
      " Layer (type)                Output Shape              Param #   \n",
      "=================================================================\n",
      " conv2d (Conv2D)             (None, 60, 60, 8)         400       \n",
      "                                                                 \n",
      " max_pooling2d (MaxPooling2D  (None, 30, 30, 8)        0         \n",
      " )                                                               \n",
      "                                                                 \n",
      " conv2d_1 (Conv2D)           (None, 30, 30, 16)        3216      \n",
      "                                                                 \n",
      " max_pooling2d_1 (MaxPooling  (None, 15, 15, 16)       0         \n",
      " 2D)                                                             \n",
      "                                                                 \n",
      " conv2d_2 (Conv2D)           (None, 15, 15, 32)        4640      \n",
      "                                                                 \n",
      " max_pooling2d_2 (MaxPooling  (None, 7, 7, 32)         0         \n",
      " 2D)                                                             \n",
      "                                                                 \n",
      " flatten (Flatten)           (None, 1568)              0         \n",
      "                                                                 \n",
      " dense (Dense)               (None, 256)               401664    \n",
      "                                                                 \n",
      " dense_1 (Dense)             (None, 128)               32896     \n",
      "                                                                 \n",
      " dense_2 (Dense)             (None, 32)                4128      \n",
      "                                                                 \n",
      " dense_3 (Dense)             (None, 1)                 33        \n",
      "                                                                 \n",
      "=================================================================\n",
      "Total params: 446,977\n",
      "Trainable params: 446,977\n",
      "Non-trainable params: 0\n",
      "_________________________________________________________________\n",
      "None\n"
     ]
    }
   ],
   "source": [
    "model = load_model('models/model.h5')\n",
    "print(model.summary())"
   ]
  },
  {
   "cell_type": "code",
   "execution_count": 4,
   "id": "afc185f5",
   "metadata": {},
   "outputs": [
    {
     "data": {
      "text/plain": [
       "<matplotlib.image.AxesImage at 0x2b5cbfe6370>"
      ]
     },
     "execution_count": 4,
     "metadata": {},
     "output_type": "execute_result"
    },
    {
     "data": {
      "image/png": "[encoded data removed]",
      "text/plain": [
       "<Figure size 432x288 with 1 Axes>"
      ]
     },
     "metadata": {
      "needs_background": "light"
     },
     "output_type": "display_data"
    }
   ],
   "source": [
    "img1 = cv2.imread('files/cat.jpg')\n",
    "img1 = cv2.cvtColor(cv2.resize(img1, IMG_SIZE), cv2.COLOR_BGR2GRAY)\n",
    "\n",
    "plt.imshow(img1, cmap='gray')"
   ]
  },
  {
   "cell_type": "code",
   "execution_count": 5,
   "id": "26aa27bc",
   "metadata": {},
   "outputs": [
    {
     "data": {
      "text/plain": [
       "<matplotlib.image.AxesImage at 0x2b5d1e9ad30>"
      ]
     },
     "execution_count": 5,
     "metadata": {},
     "output_type": "execute_result"
    },
    {
     "data": {
      "image/png": "[encoded data removed]",
      "text/plain": [
       "<Figure size 432x288 with 1 Axes>"
      ]
     },
     "metadata": {
      "needs_background": "light"
     },
     "output_type": "display_data"
    }
   ],
   "source": [
    "img2 = cv2.imread('files/dog.jpg')\n",
    "img2 = cv2.cvtColor(cv2.resize(img2, IMG_SIZE), cv2.COLOR_BGR2GRAY)\n",
    "\n",
    "plt.imshow(img2, cmap='gray')"
   ]
  },
  {
   "cell_type": "code",
   "execution_count": 8,
   "id": "a1888c59",
   "metadata": {},
   "outputs": [
    {
     "name": "stdout",
     "output_type": "stream",
     "text": [
      "(2, 60, 60, 1, 1)\n"
     ]
    }
   ],
   "source": [
    "img1 = np.expand_dims(img1, 2)\n",
    "img2 = np.expand_dims(img2, 2)\n",
    "\n",
    "images = [img1, img2]\n",
    "images = np.array(images) / 255.\n",
    "\n",
    "print(images.shape)"
   ]
  },
  {
   "cell_type": "code",
   "execution_count": 9,
   "id": "e3170f9a",
   "metadata": {},
   "outputs": [
    {
     "name": "stdout",
     "output_type": "stream",
     "text": [
      "[[0.]\n",
      " [1.]]\n"
     ]
    }
   ],
   "source": [
    "yhat = model.predict(images).round()\n",
    "print(yhat)"
   ]
  },
  {
   "cell_type": "code",
   "execution_count": 10,
   "id": "836ff0be",
   "metadata": {},
   "outputs": [],
   "source": [
    "model_retrain = load_model('models/model.h5')"
   ]
  },
  {
   "cell_type": "code",
   "execution_count": 14,
   "id": "583e9018",
   "metadata": {},
   "outputs": [
    {
     "name": "stdout",
     "output_type": "stream",
     "text": [
      "False\n",
      "False\n",
      "False\n",
      "False\n",
      "False\n",
      "False\n",
      "False\n",
      "False\n",
      "False\n",
      "True\n",
      "True\n"
     ]
    }
   ],
   "source": [
    "for layer in model_retrain.layers[:-2]:\n",
    "    layer.trainable = False\n",
    "\n",
    "for layer in model_retrain.layers:\n",
    "    print(layer.trainable)"
   ]
  },
  {
   "cell_type": "code",
   "execution_count": 16,
   "id": "c688e373",
   "metadata": {},
   "outputs": [
    {
     "name": "stdout",
     "output_type": "stream",
     "text": [
      "Model: \"sequential\"\n",
      "_________________________________________________________________\n",
      " Layer (type)                Output Shape              Param #   \n",
      "=================================================================\n",
      " conv2d (Conv2D)             (None, 60, 60, 8)         400       \n",
      "                                                                 \n",
      " max_pooling2d (MaxPooling2D  (None, 30, 30, 8)        0         \n",
      " )                                                               \n",
      "                                                                 \n",
      " conv2d_1 (Conv2D)           (None, 30, 30, 16)        3216      \n",
      "                                                                 \n",
      " max_pooling2d_1 (MaxPooling  (None, 15, 15, 16)       0         \n",
      " 2D)                                                             \n",
      "                                                                 \n",
      " conv2d_2 (Conv2D)           (None, 15, 15, 32)        4640      \n",
      "                                                                 \n",
      " max_pooling2d_2 (MaxPooling  (None, 7, 7, 32)         0         \n",
      " 2D)                                                             \n",
      "                                                                 \n",
      " flatten (Flatten)           (None, 1568)              0         \n",
      "                                                                 \n",
      " dense (Dense)               (None, 256)               401664    \n",
      "                                                                 \n",
      " dense_1 (Dense)             (None, 128)               32896     \n",
      "                                                                 \n",
      " dense_2 (Dense)             (None, 32)                4128      \n",
      "                                                                 \n",
      " dense_3 (Dense)             (None, 1)                 33        \n",
      "                                                                 \n",
      "=================================================================\n",
      "Total params: 446,977\n",
      "Trainable params: 4,161\n",
      "Non-trainable params: 442,816\n",
      "_________________________________________________________________\n",
      "None\n"
     ]
    }
   ],
   "source": [
    "print(model_retrain.summary())"
   ]
  },
  {
   "cell_type": "code",
   "execution_count": 22,
   "id": "818057a8",
   "metadata": {},
   "outputs": [],
   "source": [
    "def load_data(data_dir):\n",
    "    x = []\n",
    "    names = os.listdir(data_dir)\n",
    "    for name in names:\n",
    "        img = cv2.imread(data_dir+name)\n",
    "        img = cv2.cvtColor(cv2.resize(img, IMG_SIZE), cv2.COLOR_BGR2GRAY)\n",
    "        img = np.expand_dims(img, 2)\n",
    "        x.append(img)\n",
    "    \n",
    "    return x"
   ]
  },
  {
   "cell_type": "code",
   "execution_count": 23,
   "id": "316513d8",
   "metadata": {},
   "outputs": [],
   "source": [
    "x0 = load_data('dataset/no_tumor/')\n",
    "x1 = load_data('dataset/meningioma_tumor/')"
   ]
  },
  {
   "cell_type": "code",
   "execution_count": 24,
   "id": "a7d3ffe7",
   "metadata": {},
   "outputs": [
    {
     "name": "stdout",
     "output_type": "stream",
     "text": [
      "(790, 60, 60, 1) (790,)\n"
     ]
    }
   ],
   "source": [
    "x = np.array(x0 + x1) / 255.\n",
    "y = np.array(len(x0) * [0] + len(x1) * [1])\n",
    "print(x.shape, y.shape)"
   ]
  },
  {
   "cell_type": "code",
   "execution_count": 26,
   "id": "67378ac2",
   "metadata": {},
   "outputs": [],
   "source": [
    "x_train, x_val, y_train, y_val = train_test_split(x, y, train_size=0.8)"
   ]
  },
  {
   "cell_type": "code",
   "execution_count": 27,
   "id": "a124ce67",
   "metadata": {},
   "outputs": [
    {
     "name": "stdout",
     "output_type": "stream",
     "text": [
      "Epoch 1/10\n",
      "20/20 [==============================] - 2s 63ms/step - loss: 0.5360 - accuracy: 0.7722 - val_loss: 0.3233 - val_accuracy: 0.9241\n",
      "Epoch 2/10\n",
      "20/20 [==============================] - 1s 38ms/step - loss: 0.2673 - accuracy: 0.9225 - val_loss: 0.2860 - val_accuracy: 0.9177\n",
      "Epoch 3/10\n",
      "20/20 [==============================] - 1s 27ms/step - loss: 0.1385 - accuracy: 0.9652 - val_loss: 0.2085 - val_accuracy: 0.9367\n",
      "Epoch 4/10\n",
      "20/20 [==============================] - 1s 40ms/step - loss: 0.0463 - accuracy: 0.9873 - val_loss: 0.1832 - val_accuracy: 0.9557\n",
      "Epoch 5/10\n",
      "20/20 [==============================] - 1s 29ms/step - loss: 0.0090 - accuracy: 0.9984 - val_loss: 0.2124 - val_accuracy: 0.9557\n",
      "Epoch 6/10\n",
      "20/20 [==============================] - 1s 42ms/step - loss: 0.0016 - accuracy: 1.0000 - val_loss: 0.2489 - val_accuracy: 0.9557\n",
      "Epoch 7/10\n",
      "20/20 [==============================] - 1s 26ms/step - loss: 7.9165e-04 - accuracy: 1.0000 - val_loss: 0.2521 - val_accuracy: 0.9557\n",
      "Epoch 8/10\n",
      "20/20 [==============================] - 1s 26ms/step - loss: 4.6845e-04 - accuracy: 1.0000 - val_loss: 0.2674 - val_accuracy: 0.9557\n",
      "Epoch 9/10\n",
      "20/20 [==============================] - 1s 26ms/step - loss: 3.5442e-04 - accuracy: 1.0000 - val_loss: 0.2704 - val_accuracy: 0.9620\n",
      "Epoch 10/10\n",
      "20/20 [==============================] - 1s 33ms/step - loss: 2.8965e-04 - accuracy: 1.0000 - val_loss: 0.2716 - val_accuracy: 0.9620\n"
     ]
    },
    {
     "data": {
      "text/plain": [
       "<keras.callbacks.History at 0x2b6a595c8b0>"
      ]
     },
     "execution_count": 27,
     "metadata": {},
     "output_type": "execute_result"
    }
   ],
   "source": [
    "model.fit(x_train, y_train, epochs=10, validation_data=(x_val, y_val))"
   ]
  }
 ],
 "metadata": {
  "kernelspec": {
   "display_name": "Python 3 (ipykernel)",
   "language": "python",
   "name": "python3"
  },
  "language_info": {
   "codemirror_mode": {
    "name": "ipython",
    "version": 3
   },
   "file_extension": ".py",
   "mimetype": "text/x-python",
   "name": "python",
   "nbconvert_exporter": "python",
   "pygments_lexer": "ipython3",
   "version": "3.9.12"
  }
 },
 "nbformat": 4,
 "nbformat_minor": 5
}
