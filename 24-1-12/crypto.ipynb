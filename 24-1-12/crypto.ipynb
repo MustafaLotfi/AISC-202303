{
 "cells": [
  {
   "cell_type": "code",
   "execution_count": 1,
   "id": "07d6ad82",
   "metadata": {},
   "outputs": [],
   "source": [
    "import pandas as pd\n",
    "import numpy as np\n",
    "import matplotlib.pyplot as plt"
   ]
  },
  {
   "cell_type": "code",
   "execution_count": 2,
   "id": "fdafc1c4",
   "metadata": {},
   "outputs": [],
   "source": [
    "FUTURE = 3\n",
    "SEQ_LEN = 60"
   ]
  },
  {
   "cell_type": "code",
   "execution_count": 3,
   "id": "ba2f9e90",
   "metadata": {},
   "outputs": [],
   "source": [
    "df = pd.read_csv('BTC-USD.csv', names=['time', 'low', 'high', 'open', 'close', 'volume'])"
   ]
  },
  {
   "cell_type": "code",
   "execution_count": 4,
   "id": "e671813f",
   "metadata": {},
   "outputs": [
    {
     "data": {
      "text/html": [
       "<div>\n",
       "<style scoped>\n",
       "    .dataframe tbody tr th:only-of-type {\n",
       "        vertical-align: middle;\n",
       "    }\n",
       "\n",
       "    .dataframe tbody tr th {\n",
       "        vertical-align: top;\n",
       "    }\n",
       "\n",
       "    .dataframe thead th {\n",
       "        text-align: right;\n",
       "    }\n",
       "</style>\n",
       "<table border=\"1\" class=\"dataframe\">\n",
       "  <thead>\n",
       "    <tr style=\"text-align: right;\">\n",
       "      <th></th>\n",
       "      <th>time</th>\n",
       "      <th>low</th>\n",
       "      <th>high</th>\n",
       "      <th>open</th>\n",
       "      <th>close</th>\n",
       "      <th>volume</th>\n",
       "    </tr>\n",
       "  </thead>\n",
       "  <tbody>\n",
       "    <tr>\n",
       "      <th>97719</th>\n",
       "      <td>1535214960</td>\n",
       "      <td>6712.990234</td>\n",
       "      <td>6713.140137</td>\n",
       "      <td>6713.000000</td>\n",
       "      <td>6713.140137</td>\n",
       "      <td>0.769891</td>\n",
       "    </tr>\n",
       "    <tr>\n",
       "      <th>97720</th>\n",
       "      <td>1535215020</td>\n",
       "      <td>6713.339844</td>\n",
       "      <td>6715.000000</td>\n",
       "      <td>6715.000000</td>\n",
       "      <td>6714.520020</td>\n",
       "      <td>1.002652</td>\n",
       "    </tr>\n",
       "    <tr>\n",
       "      <th>97721</th>\n",
       "      <td>1535215080</td>\n",
       "      <td>6714.509766</td>\n",
       "      <td>6714.520020</td>\n",
       "      <td>6714.520020</td>\n",
       "      <td>6714.520020</td>\n",
       "      <td>1.021925</td>\n",
       "    </tr>\n",
       "    <tr>\n",
       "      <th>97722</th>\n",
       "      <td>1535215140</td>\n",
       "      <td>6714.520020</td>\n",
       "      <td>6715.000000</td>\n",
       "      <td>6714.520020</td>\n",
       "      <td>6715.000000</td>\n",
       "      <td>3.645508</td>\n",
       "    </tr>\n",
       "    <tr>\n",
       "      <th>97723</th>\n",
       "      <td>1535215200</td>\n",
       "      <td>6714.990234</td>\n",
       "      <td>6715.000000</td>\n",
       "      <td>6714.990234</td>\n",
       "      <td>6715.000000</td>\n",
       "      <td>0.513560</td>\n",
       "    </tr>\n",
       "  </tbody>\n",
       "</table>\n",
       "</div>"
      ],
      "text/plain": [
       "             time          low         high         open        close  \\\n",
       "97719  1535214960  6712.990234  6713.140137  6713.000000  6713.140137   \n",
       "97720  1535215020  6713.339844  6715.000000  6715.000000  6714.520020   \n",
       "97721  1535215080  6714.509766  6714.520020  6714.520020  6714.520020   \n",
       "97722  1535215140  6714.520020  6715.000000  6714.520020  6715.000000   \n",
       "97723  1535215200  6714.990234  6715.000000  6714.990234  6715.000000   \n",
       "\n",
       "         volume  \n",
       "97719  0.769891  \n",
       "97720  1.002652  \n",
       "97721  1.021925  \n",
       "97722  3.645508  \n",
       "97723  0.513560  "
      ]
     },
     "execution_count": 4,
     "metadata": {},
     "output_type": "execute_result"
    }
   ],
   "source": [
    "df.tail()"
   ]
  },
  {
   "cell_type": "code",
   "execution_count": 5,
   "id": "d1da2a33",
   "metadata": {},
   "outputs": [
    {
     "data": {
      "text/html": [
       "<div>\n",
       "<style scoped>\n",
       "    .dataframe tbody tr th:only-of-type {\n",
       "        vertical-align: middle;\n",
       "    }\n",
       "\n",
       "    .dataframe tbody tr th {\n",
       "        vertical-align: top;\n",
       "    }\n",
       "\n",
       "    .dataframe thead th {\n",
       "        text-align: right;\n",
       "    }\n",
       "</style>\n",
       "<table border=\"1\" class=\"dataframe\">\n",
       "  <thead>\n",
       "    <tr style=\"text-align: right;\">\n",
       "      <th></th>\n",
       "      <th>close</th>\n",
       "      <th>volume</th>\n",
       "    </tr>\n",
       "  </thead>\n",
       "  <tbody>\n",
       "    <tr>\n",
       "      <th>97719</th>\n",
       "      <td>6713.140137</td>\n",
       "      <td>0.769891</td>\n",
       "    </tr>\n",
       "    <tr>\n",
       "      <th>97720</th>\n",
       "      <td>6714.520020</td>\n",
       "      <td>1.002652</td>\n",
       "    </tr>\n",
       "    <tr>\n",
       "      <th>97721</th>\n",
       "      <td>6714.520020</td>\n",
       "      <td>1.021925</td>\n",
       "    </tr>\n",
       "    <tr>\n",
       "      <th>97722</th>\n",
       "      <td>6715.000000</td>\n",
       "      <td>3.645508</td>\n",
       "    </tr>\n",
       "    <tr>\n",
       "      <th>97723</th>\n",
       "      <td>6715.000000</td>\n",
       "      <td>0.513560</td>\n",
       "    </tr>\n",
       "  </tbody>\n",
       "</table>\n",
       "</div>"
      ],
      "text/plain": [
       "             close    volume\n",
       "97719  6713.140137  0.769891\n",
       "97720  6714.520020  1.002652\n",
       "97721  6714.520020  1.021925\n",
       "97722  6715.000000  3.645508\n",
       "97723  6715.000000  0.513560"
      ]
     },
     "execution_count": 5,
     "metadata": {},
     "output_type": "execute_result"
    }
   ],
   "source": [
    "df = df[['close', 'volume']]\n",
    "df.tail()"
   ]
  },
  {
   "cell_type": "code",
   "execution_count": 6,
   "id": "2dca3d24",
   "metadata": {},
   "outputs": [
    {
     "name": "stdout",
     "output_type": "stream",
     "text": [
      "(97724, 2)\n",
      "(97724, 2)\n"
     ]
    }
   ],
   "source": [
    "print(df.shape)\n",
    "df.dropna(inplace=True)\n",
    "print(df.shape)"
   ]
  },
  {
   "cell_type": "code",
   "execution_count": 7,
   "id": "bf73c8ea",
   "metadata": {},
   "outputs": [
    {
     "data": {
      "text/plain": [
       "[<matplotlib.lines.Line2D at 0x1a91194ad30>]"
      ]
     },
     "execution_count": 7,
     "metadata": {},
     "output_type": "execute_result"
    },
    {
     "data": {
      "image/png": "[encoded data removed]",
      "text/plain": [
       "<Figure size 432x288 with 1 Axes>"
      ]
     },
     "metadata": {
      "needs_background": "light"
     },
     "output_type": "display_data"
    }
   ],
   "source": [
    "plt.plot(df['close'])"
   ]
  },
  {
   "cell_type": "code",
   "execution_count": 8,
   "id": "a82b2d74",
   "metadata": {},
   "outputs": [
    {
     "data": {
      "text/html": [
       "<div>\n",
       "<style scoped>\n",
       "    .dataframe tbody tr th:only-of-type {\n",
       "        vertical-align: middle;\n",
       "    }\n",
       "\n",
       "    .dataframe tbody tr th {\n",
       "        vertical-align: top;\n",
       "    }\n",
       "\n",
       "    .dataframe thead th {\n",
       "        text-align: right;\n",
       "    }\n",
       "</style>\n",
       "<table border=\"1\" class=\"dataframe\">\n",
       "  <thead>\n",
       "    <tr style=\"text-align: right;\">\n",
       "      <th></th>\n",
       "      <th>close</th>\n",
       "      <th>volume</th>\n",
       "      <th>future</th>\n",
       "    </tr>\n",
       "  </thead>\n",
       "  <tbody>\n",
       "    <tr>\n",
       "      <th>97719</th>\n",
       "      <td>6713.140137</td>\n",
       "      <td>0.769891</td>\n",
       "      <td>6715.0</td>\n",
       "    </tr>\n",
       "    <tr>\n",
       "      <th>97720</th>\n",
       "      <td>6714.520020</td>\n",
       "      <td>1.002652</td>\n",
       "      <td>6715.0</td>\n",
       "    </tr>\n",
       "    <tr>\n",
       "      <th>97721</th>\n",
       "      <td>6714.520020</td>\n",
       "      <td>1.021925</td>\n",
       "      <td>NaN</td>\n",
       "    </tr>\n",
       "    <tr>\n",
       "      <th>97722</th>\n",
       "      <td>6715.000000</td>\n",
       "      <td>3.645508</td>\n",
       "      <td>NaN</td>\n",
       "    </tr>\n",
       "    <tr>\n",
       "      <th>97723</th>\n",
       "      <td>6715.000000</td>\n",
       "      <td>0.513560</td>\n",
       "      <td>NaN</td>\n",
       "    </tr>\n",
       "  </tbody>\n",
       "</table>\n",
       "</div>"
      ],
      "text/plain": [
       "             close    volume  future\n",
       "97719  6713.140137  0.769891  6715.0\n",
       "97720  6714.520020  1.002652  6715.0\n",
       "97721  6714.520020  1.021925     NaN\n",
       "97722  6715.000000  3.645508     NaN\n",
       "97723  6715.000000  0.513560     NaN"
      ]
     },
     "execution_count": 8,
     "metadata": {},
     "output_type": "execute_result"
    }
   ],
   "source": [
    "df['future'] = df['close'].shift(-FUTURE)\n",
    "df.tail()"
   ]
  },
  {
   "cell_type": "code",
   "execution_count": 9,
   "id": "063fc67e",
   "metadata": {
    "scrolled": true
   },
   "outputs": [],
   "source": [
    "df.dropna(inplace=True)"
   ]
  },
  {
   "cell_type": "code",
   "execution_count": 10,
   "id": "78164391",
   "metadata": {},
   "outputs": [
    {
     "data": {
      "text/html": [
       "<div>\n",
       "<style scoped>\n",
       "    .dataframe tbody tr th:only-of-type {\n",
       "        vertical-align: middle;\n",
       "    }\n",
       "\n",
       "    .dataframe tbody tr th {\n",
       "        vertical-align: top;\n",
       "    }\n",
       "\n",
       "    .dataframe thead th {\n",
       "        text-align: right;\n",
       "    }\n",
       "</style>\n",
       "<table border=\"1\" class=\"dataframe\">\n",
       "  <thead>\n",
       "    <tr style=\"text-align: right;\">\n",
       "      <th></th>\n",
       "      <th>close</th>\n",
       "      <th>volume</th>\n",
       "      <th>future</th>\n",
       "    </tr>\n",
       "  </thead>\n",
       "  <tbody>\n",
       "    <tr>\n",
       "      <th>97716</th>\n",
       "      <td>6708.379883</td>\n",
       "      <td>0.975295</td>\n",
       "      <td>6713.140137</td>\n",
       "    </tr>\n",
       "    <tr>\n",
       "      <th>97717</th>\n",
       "      <td>6710.089844</td>\n",
       "      <td>1.293573</td>\n",
       "      <td>6714.520020</td>\n",
       "    </tr>\n",
       "    <tr>\n",
       "      <th>97718</th>\n",
       "      <td>6712.990234</td>\n",
       "      <td>2.330975</td>\n",
       "      <td>6714.520020</td>\n",
       "    </tr>\n",
       "    <tr>\n",
       "      <th>97719</th>\n",
       "      <td>6713.140137</td>\n",
       "      <td>0.769891</td>\n",
       "      <td>6715.000000</td>\n",
       "    </tr>\n",
       "    <tr>\n",
       "      <th>97720</th>\n",
       "      <td>6714.520020</td>\n",
       "      <td>1.002652</td>\n",
       "      <td>6715.000000</td>\n",
       "    </tr>\n",
       "  </tbody>\n",
       "</table>\n",
       "</div>"
      ],
      "text/plain": [
       "             close    volume       future\n",
       "97716  6708.379883  0.975295  6713.140137\n",
       "97717  6710.089844  1.293573  6714.520020\n",
       "97718  6712.990234  2.330975  6714.520020\n",
       "97719  6713.140137  0.769891  6715.000000\n",
       "97720  6714.520020  1.002652  6715.000000"
      ]
     },
     "execution_count": 10,
     "metadata": {},
     "output_type": "execute_result"
    }
   ],
   "source": [
    "df.tail()"
   ]
  },
  {
   "cell_type": "code",
   "execution_count": 11,
   "id": "552176ff",
   "metadata": {},
   "outputs": [],
   "source": [
    "def classify(now, future):\n",
    "    if future > now:\n",
    "        out = 1\n",
    "    else:\n",
    "        out = 0\n",
    "    \n",
    "    return out"
   ]
  },
  {
   "cell_type": "code",
   "execution_count": 12,
   "id": "2487344a",
   "metadata": {},
   "outputs": [
    {
     "name": "stdout",
     "output_type": "stream",
     "text": [
      "[0, 1, 0, 0]\n"
     ]
    }
   ],
   "source": [
    "l1 = [3, 5, 1, 7]\n",
    "l2 = [2, 8, 1, 0]\n",
    "\n",
    "l3 = list(map(classify, l1, l2))\n",
    "print(l3)"
   ]
  }
 ],
 "metadata": {
  "kernelspec": {
   "display_name": "Python 3 (ipykernel)",
   "language": "python",
   "name": "python3"
  },
  "language_info": {
   "codemirror_mode": {
    "name": "ipython",
    "version": 3
   },
   "file_extension": ".py",
   "mimetype": "text/x-python",
   "name": "python",
   "nbconvert_exporter": "python",
   "pygments_lexer": "ipython3",
   "version": "3.9.12"
  }
 },
 "nbformat": 4,
 "nbformat_minor": 5
}
